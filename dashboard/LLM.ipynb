{
 "cells": [
  {
   "cell_type": "code",
   "execution_count": 4,
   "id": "c752c535",
   "metadata": {},
   "outputs": [
    {
     "name": "stdout",
     "output_type": "stream",
     "text": [
      "Hoppi var en liten kanin med långa öron och en fluffig svans, och han bodde i en mysig håla under en stor ek i skogen. Varje morgon hoppade han ut för att leta efter saftiga klöver och söta bär, och undvek noga den lurande räven. När skymningen föll återvände Hoppi till sin håla, fylld med mat och tryggheten av sitt skogshem.\n",
      "\n"
     ]
    }
   ],
   "source": [
    "from google import genai\n",
    "import os\n",
    "from dotenv import load_dotenv\n",
    "load_dotenv()\n",
    "client = genai.Client(api_key=os.getenv(\"GEMINI_API_KEY\"))\n",
    "\n",
    "response = client.models.generate_content(\n",
    "    model=\"gemini-2.0-flash\", contents=\"Ge mig en historia om en kanin som bor i skogen på 3 meningar\"\n",
    ")\n",
    "print(response.text)"
   ]
  }
 ],
 "metadata": {
  "kernelspec": {
   "display_name": ".venv",
   "language": "python",
   "name": "python3"
  },
  "language_info": {
   "codemirror_mode": {
    "name": "ipython",
    "version": 3
   },
   "file_extension": ".py",
   "mimetype": "text/x-python",
   "name": "python",
   "nbconvert_exporter": "python",
   "pygments_lexer": "ipython3",
   "version": "3.12.8"
  }
 },
 "nbformat": 4,
 "nbformat_minor": 5
}
